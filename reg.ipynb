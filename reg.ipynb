{
 "cells": [
  {
   "cell_type": "code",
   "execution_count": 48,
   "metadata": {},
   "outputs": [
    {
     "name": "stdout",
     "output_type": "stream",
     "text": [
      "(($.((rf.dep).((dep|(rf.dep)))*))|(($.(dep.((dep|(rf.dep)))*))|(($.((dep.((dep)*.rf)).((dep.((dep)*.rf)))*))|($.rf))))\n"
     ]
    }
   ],
   "source": [
    "from pyformlang.regular_expression import Regex\n",
    "\n",
    "regex = Regex(\"(dep|rf).(dep|rf)*\")\n",
    "regexForbidden = Regex(\"(dep|rf)*.rf.rf.(dep|rf)*\").union(Regex(\"rf.(dep|rf)*.rf\"))\n",
    "\n",
    "nfa = regex.to_epsilon_nfa().minimize()\n",
    "nfaForbidden = regexForbidden.to_epsilon_nfa().minimize()\n",
    "\n",
    "coNfaFrobidden = nfaForbidden.get_complement().minimize()\n",
    "resultNfa = nfa.get_intersection(coNfaFrobidden).minimize()\n",
    "\n",
    "print(resultNfa.to_regex())\n"
   ]
  },
  {
   "cell_type": "code",
   "execution_count": 46,
   "metadata": {},
   "outputs": [
    {
     "name": "stdout",
     "output_type": "stream",
     "text": [
      "(((co|fr))*.(((rfe|poRM)|poWW).(((((co|rfe)|poRM)|poWW)|fr))*))\n"
     ]
    }
   ],
   "source": [
    "com = Regex(\"rf|fr|co\")\n",
    "scacyclic = Regex(\"po\").union(com)\n",
    "sc = scacyclic.kleene_star()\n",
    "comTso = Regex(\"rfe|fr|co\")\n",
    "poTso = Regex(\"poWW|poRM\")\n",
    "tsoacyclic = poTso.union(comTso)\n",
    "tso = tsoacyclic.kleene_star()\n",
    "\n",
    "tsoNfa = tso.to_epsilon_nfa().minimize()\n",
    "scNfa = sc.to_epsilon_nfa().minimize()\n",
    "scNfa.add_symbol(\"rfe\")\n",
    "scNfa.add_symbol(\"poWW\")\n",
    "scNfa.add_symbol(\"poRM\")\n",
    "scCoNfa = scNfa.get_complement().minimize()\n",
    "resultNfa = tsoNfa.get_intersection(scCoNfa).minimize()\n",
    "print(resultNfa.to_regex())\n"
   ]
  }
 ],
 "metadata": {
  "kernelspec": {
   "display_name": "Python 3.10.7 64-bit",
   "language": "python",
   "name": "python3"
  },
  "language_info": {
   "codemirror_mode": {
    "name": "ipython",
    "version": 3
   },
   "file_extension": ".py",
   "mimetype": "text/x-python",
   "name": "python",
   "nbconvert_exporter": "python",
   "pygments_lexer": "ipython3",
   "version": "3.10.7"
  },
  "orig_nbformat": 4,
  "vscode": {
   "interpreter": {
    "hash": "aee8b7b246df8f9039afb4144a1f6fd8d2ca17a180786b69acc140d282b71a49"
   }
  }
 },
 "nbformat": 4,
 "nbformat_minor": 2
}
